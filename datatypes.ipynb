{
 "cells": [
  {
   "cell_type": "code",
   "execution_count": 45,
   "metadata": {},
   "outputs": [],
   "source": [
    "import numpy as np\n",
    "import matplotlib.pyplot as plt\n",
    "import pandas as pd\n",
    "\n"
   ]
  },
  {
   "cell_type": "code",
   "execution_count": 10,
   "metadata": {},
   "outputs": [
    {
     "name": "stdout",
     "output_type": "stream",
     "text": [
      "<class 'numpy.ndarray'>\n",
      "(5,)\n",
      "4\n",
      "[ 6  7 68 10  9]\n"
     ]
    }
   ],
   "source": [
    "# Array with Numpy \n",
    "\n",
    "a = np.array ([ 4,7,68,10,9])\n",
    "print(type(a))\n",
    "print (a.shape)\n",
    "print (a[0])\n",
    "a[0] = 6\n",
    "print (a)\n",
    "\n"
   ]
  },
  {
   "cell_type": "code",
   "execution_count": 19,
   "metadata": {},
   "outputs": [
    {
     "name": "stdout",
     "output_type": "stream",
     "text": [
      "(2, 3)\n",
      "[[5 6 7]\n",
      " [6 3 4]]\n",
      "[[5 6 7]\n",
      " [6 3 4]]\n"
     ]
    }
   ],
   "source": [
    "b = np.array([[5, 6, 7] , [6,3,4]])\n",
    "print (b.shape)\n",
    "print (b)\n",
    "\n",
    "\n",
    "#printing the position (1,1)\n",
    "print (b)"
   ]
  },
  {
   "cell_type": "code",
   "execution_count": 27,
   "metadata": {},
   "outputs": [
    {
     "name": "stdout",
     "output_type": "stream",
     "text": [
      "[[0. 0. 0.]\n",
      " [0. 0. 0.]\n",
      " [0. 0. 0.]]\n",
      "[[1. 1. 1. 1.]\n",
      " [1. 1. 1. 1.]\n",
      " [1. 1. 1. 1.]]\n",
      "[[1. 0. 0.]\n",
      " [0. 1. 0.]\n",
      " [0. 0. 1.]]\n",
      "[[119 114 133 115]\n",
      " [139 116 132 118]\n",
      " [114 138 138 143]\n",
      " [101 131 145 145]\n",
      " [117 149 117 145]]\n"
     ]
    }
   ],
   "source": [
    "#Using numpy functions \n",
    "\n",
    "zero_array = np.zeros ((3,3))\n",
    "print (zero_array)\n",
    "\n",
    "ones_array = np.ones((3,4))\n",
    "print(ones_array)\n",
    "\n",
    "\n",
    "identity_array = np.eye(3)\n",
    "print(identity_array)\n",
    "\n",
    "random_array_int = np.random.randint(100,150, (5,4))\n",
    "print(random_array_int)"
   ]
  },
  {
   "cell_type": "code",
   "execution_count": 29,
   "metadata": {},
   "outputs": [
    {
     "name": "stdout",
     "output_type": "stream",
     "text": [
      "[139 116 132 118]\n"
     ]
    }
   ],
   "source": [
    "#printing a whole row at once\n",
    "\n",
    "\n",
    "print(random_array_int[1,:])\n",
    "\n"
   ]
  },
  {
   "cell_type": "code",
   "execution_count": 39,
   "metadata": {},
   "outputs": [
    {
     "data": {
      "text/plain": [
       "<function matplotlib.pyplot.show(close=None, block=None)>"
      ]
     },
     "execution_count": 39,
     "metadata": {},
     "output_type": "execute_result"
    },
    {
     "data": {
      "image/png": "[encoded data removed]",
      "text/plain": [
       "<Figure size 432x288 with 1 Axes>"
      ]
     },
     "metadata": {
      "needs_background": "light"
     },
     "output_type": "display_data"
    }
   ],
   "source": [
    "#Plotting arrays using Matplotlib\n",
    "\n",
    "list_int = np.array([5,7,8,10,13,25])\n",
    "plt.plot (list_int)\n",
    "plt.ylabel(\"integer numbers\")\n",
    "plt.xlabel(\"x axis\")\n",
    "plt.show"
   ]
  },
  {
   "cell_type": "code",
   "execution_count": 43,
   "metadata": {},
   "outputs": [
    {
     "data": {
      "image/png": "[encoded data removed]",
      "text/plain": [
       "<Figure size 432x288 with 1 Axes>"
      ]
     },
     "metadata": {
      "needs_background": "light"
     },
     "output_type": "display_data"
    }
   ],
   "source": [
    "#Formatting the style of your plot \n",
    "plt.plot([2,3,6,7],[10,7,4,1], \"r*\")\n",
    "plt.show()"
   ]
  },
  {
   "cell_type": "code",
   "execution_count": 44,
   "metadata": {},
   "outputs": [
    {
     "data": {
      "image/png": "[encoded data removed]",
      "text/plain": [
       "<Figure size 648x216 with 3 Axes>"
      ]
     },
     "metadata": {
      "needs_background": "light"
     },
     "output_type": "display_data"
    }
   ],
   "source": [
    "# Plotting with categorical varibales\n",
    "\n",
    "name = [\"group_a\" , \"group_b\" , \"group_c\"]\n",
    "values = [5, 17, 78]\n",
    "\n",
    "plt.figure(figsize=(9,3))\n",
    "\n",
    "plt.subplot(1,3,1)\n",
    "plt.bar(name,values)\n",
    "plt.subplot(1,3,2)\n",
    "plt.scatter(name,values)\n",
    "plt.subplot(1,3,3)\n",
    "plt.plot(name,values)\n",
    "plt.suptitle(\"Categorical Plotting\")\n",
    "plt.show()"
   ]
  },
  {
   "cell_type": "code",
   "execution_count": 46,
   "metadata": {},
   "outputs": [
    {
     "name": "stdout",
     "output_type": "stream",
     "text": [
      "<class 'pandas.core.frame.DataFrame'>\n"
     ]
    }
   ],
   "source": [
    "# Create an Empty DataFrame using pandas\n",
    "\n",
    "df = pd.DataFrame()\n",
    "print(type(df))\n",
    "\n"
   ]
  },
  {
   "cell_type": "code",
   "execution_count": 48,
   "metadata": {},
   "outputs": [
    {
     "name": "stdout",
     "output_type": "stream",
     "text": [
      "    0\n",
      "0   1\n",
      "1   4\n",
      "2   7\n",
      "3   9\n",
      "4  10\n"
     ]
    }
   ],
   "source": [
    "#Create a DataFrame from an Array \n",
    "\n",
    "data = [1,4,7,9,10]\n",
    "df = pd.DataFrame(data)\n",
    "print(df)"
   ]
  },
  {
   "cell_type": "code",
   "execution_count": 49,
   "metadata": {},
   "outputs": [
    {
     "name": "stdout",
     "output_type": "stream",
     "text": [
      "    Name  Age\n",
      "0   Alex   10\n",
      "1    Bod   12\n",
      "2  Clark   13\n"
     ]
    }
   ],
   "source": [
    "data = [[\"Alex\",10], [\"Bod\",12],[\"Clark\",13]]\n",
    "df = pd.DataFrame(data,columns=['Name',\"Age\"])\n",
    "print(df)"
   ]
  },
  {
   "cell_type": "markdown",
   "metadata": {},
   "source": [
    "#Setting the datatype on your DataFrame\n",
    "\n",
    "df_float = pd.DataFrame(data,)"
   ]
  }
 ],
 "metadata": {
  "interpreter": {
   "hash": "c978bfa0b75344263bbb7b06b14116b5bf1d3ff940a473397e557bcac92dd6c9"
  },
  "kernelspec": {
   "display_name": "Python 3.9.5 64-bit",
   "language": "python",
   "name": "python3"
  },
  "language_info": {
   "codemirror_mode": {
    "name": "ipython",
    "version": 3
   },
   "file_extension": ".py",
   "mimetype": "text/x-python",
   "name": "python",
   "nbconvert_exporter": "python",
   "pygments_lexer": "ipython3",
   "version": "3.9.5"
  },
  "orig_nbformat": 4
 },
 "nbformat": 4,
 "nbformat_minor": 2
}
